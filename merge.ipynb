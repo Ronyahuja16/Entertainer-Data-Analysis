{
 "cells": [
  {
   "cell_type": "code",
   "execution_count": 1,
   "id": "dfbb1c56-4cff-496a-b276-69abf979ac89",
   "metadata": {},
   "outputs": [],
   "source": [
    "import pandas as pd\n",
    "import glob as gb"
   ]
  },
  {
   "cell_type": "code",
   "execution_count": 2,
   "id": "7f2cd725-7bb7-42f7-a7c1-8bab6774df70",
   "metadata": {},
   "outputs": [],
   "source": [
    "readFile=gb.glob(\"*.xlsx\")"
   ]
  },
  {
   "cell_type": "code",
   "execution_count": 3,
   "id": "4b5aef80-3c38-4f6d-a3b3-fa2b0d6bc71b",
   "metadata": {},
   "outputs": [
    {
     "name": "stdout",
     "output_type": "stream",
     "text": [
      "['Entertainer - Basic Info.xlsx', 'Entertainer - Breakthrough Info.xlsx', 'Entertainer - Last work Info.xlsx']\n"
     ]
    }
   ],
   "source": [
    "print(readFile)"
   ]
  },
  {
   "cell_type": "code",
   "execution_count": 4,
   "id": "4626d6ab-79e3-4e35-ad8d-311759ca992a",
   "metadata": {},
   "outputs": [],
   "source": [
    "excelList=[]"
   ]
  },
  {
   "cell_type": "code",
   "execution_count": 5,
   "id": "0cc8ac09-66e2-472c-bb99-d5602ced0ec1",
   "metadata": {},
   "outputs": [],
   "source": [
    "for file in readFile:\n",
    "    excelList.append(pd.read_excel(file))"
   ]
  },
  {
   "cell_type": "code",
   "execution_count": 6,
   "id": "fef6e88b-fd5e-4ada-843a-5bbc29682fe1",
   "metadata": {},
   "outputs": [],
   "source": [
    "excelMerged=pd.concat(excelList, ignore_index=True)"
   ]
  },
  {
   "cell_type": "code",
   "execution_count": 7,
   "id": "c3bf3ed8-1fe0-4130-9fb0-6e904259f020",
   "metadata": {},
   "outputs": [],
   "source": [
    "excelMerged.to_excel(\"Entertainer - Merged.xlsx\", index=False)"
   ]
  },
  {
   "cell_type": "code",
   "execution_count": 22,
   "id": "c17bc096-fb53-4951-81b6-79bd173d5d1c",
   "metadata": {},
   "outputs": [
    {
     "name": "stdout",
     "output_type": "stream",
     "text": [
      "         Entertainer Gender (traditional)  Birth Year  \\\n",
      "0              Adele                    F      1988.0   \n",
      "1     Angelina Jolie                    F      1975.0   \n",
      "2    Aretha Franklin                    F      1942.0   \n",
      "3        Bette Davis                    F      1908.0   \n",
      "4        Betty White                    F      1922.0   \n",
      "..               ...                  ...         ...   \n",
      "205        Tom Hanks                  NaN         NaN   \n",
      "206     Tony Bennett                  NaN         NaN   \n",
      "207     Wayne Newton                  NaN         NaN   \n",
      "208       Will Smith                  NaN         NaN   \n",
      "209    Willie Nelson                  NaN         NaN   \n",
      "\n",
      "     Year of Breakthrough/#1 Hit/Award Nomination Breakthrough Name  \\\n",
      "0                                             NaN               NaN   \n",
      "1                                             NaN               NaN   \n",
      "2                                             NaN               NaN   \n",
      "3                                             NaN               NaN   \n",
      "4                                             NaN               NaN   \n",
      "..                                            ...               ...   \n",
      "205                                           NaN               NaN   \n",
      "206                                           NaN               NaN   \n",
      "207                                           NaN               NaN   \n",
      "208                                           NaN               NaN   \n",
      "209                                           NaN               NaN   \n",
      "\n",
      "     Year of First Oscar/Grammy/Emmy  Year of Last Major Work (arguable)  \\\n",
      "0                                NaN                                 NaN   \n",
      "1                                NaN                                 NaN   \n",
      "2                                NaN                                 NaN   \n",
      "3                                NaN                                 NaN   \n",
      "4                                NaN                                 NaN   \n",
      "..                               ...                                 ...   \n",
      "205                              NaN                              2016.0   \n",
      "206                              NaN                              2016.0   \n",
      "207                              NaN                              2016.0   \n",
      "208                              NaN                              2016.0   \n",
      "209                              NaN                              2016.0   \n",
      "\n",
      "     Year of Death  \n",
      "0              NaN  \n",
      "1              NaN  \n",
      "2              NaN  \n",
      "3              NaN  \n",
      "4              NaN  \n",
      "..             ...  \n",
      "205            NaN  \n",
      "206            NaN  \n",
      "207            NaN  \n",
      "208            NaN  \n",
      "209            NaN  \n",
      "\n",
      "[210 rows x 8 columns]\n"
     ]
    }
   ],
   "source": [
    "print(excelMerged)"
   ]
  },
  {
   "cell_type": "code",
   "execution_count": null,
   "id": "15428722-9665-48a5-a8df-694677419619",
   "metadata": {},
   "outputs": [],
   "source": []
  },
  {
   "cell_type": "code",
   "execution_count": null,
   "id": "c5b1b605-c48a-4493-8978-8c1ed704404b",
   "metadata": {},
   "outputs": [],
   "source": []
  },
  {
   "cell_type": "code",
   "execution_count": null,
   "id": "1248e885-3481-4e10-b64b-7d20767d09df",
   "metadata": {},
   "outputs": [],
   "source": []
  }
 ],
 "metadata": {
  "kernelspec": {
   "display_name": "Python 3 (ipykernel)",
   "language": "python",
   "name": "python3"
  },
  "language_info": {
   "codemirror_mode": {
    "name": "ipython",
    "version": 3
   },
   "file_extension": ".py",
   "mimetype": "text/x-python",
   "name": "python",
   "nbconvert_exporter": "python",
   "pygments_lexer": "ipython3",
   "version": "3.11.7"
  }
 },
 "nbformat": 4,
 "nbformat_minor": 5
}
